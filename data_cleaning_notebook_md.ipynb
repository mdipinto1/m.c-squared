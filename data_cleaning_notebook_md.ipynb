{
 "cells": [
  {
   "cell_type": "code",
   "execution_count": 221,
   "metadata": {},
   "outputs": [],
   "source": [
    "import pandas as pd\n",
    "import os\n",
    "import re"
   ]
  },
  {
   "cell_type": "code",
   "execution_count": 222,
   "metadata": {},
   "outputs": [],
   "source": [
    "airbnb_df = pd.read_csv('./Raw_Data/denver_listings.csv')\n",
    "starbucks_df = pd.read_csv('./Raw_Data/startbucks.csv')"
   ]
  },
  {
   "cell_type": "markdown",
   "metadata": {},
   "source": [
    "# AirBNB Data Cleaning"
   ]
  },
  {
   "cell_type": "code",
   "execution_count": 223,
   "metadata": {},
   "outputs": [
    {
     "name": "stdout",
     "output_type": "stream",
     "text": [
      "<class 'pandas.core.frame.DataFrame'>\n",
      "RangeIndex: 5388 entries, 0 to 5387\n",
      "Data columns (total 75 columns):\n",
      " #   Column                                        Non-Null Count  Dtype  \n",
      "---  ------                                        --------------  -----  \n",
      " 0   id                                            5388 non-null   int64  \n",
      " 1   listing_url                                   5388 non-null   object \n",
      " 2   scrape_id                                     5388 non-null   int64  \n",
      " 3   last_scraped                                  5388 non-null   object \n",
      " 4   source                                        5388 non-null   object \n",
      " 5   name                                          5388 non-null   object \n",
      " 6   description                                   5369 non-null   object \n",
      " 7   neighborhood_overview                         3813 non-null   object \n",
      " 8   picture_url                                   5388 non-null   object \n",
      " 9   host_id                                       5388 non-null   int64  \n",
      " 10  host_url                                      5388 non-null   object \n",
      " 11  host_name                                     5388 non-null   object \n",
      " 12  host_since                                    5388 non-null   object \n",
      " 13  host_location                                 4595 non-null   object \n",
      " 14  host_about                                    3260 non-null   object \n",
      " 15  host_response_time                            4701 non-null   object \n",
      " 16  host_response_rate                            4701 non-null   object \n",
      " 17  host_acceptance_rate                          4883 non-null   object \n",
      " 18  host_is_superhost                             5269 non-null   object \n",
      " 19  host_thumbnail_url                            5388 non-null   object \n",
      " 20  host_picture_url                              5388 non-null   object \n",
      " 21  host_neighbourhood                            5093 non-null   object \n",
      " 22  host_listings_count                           5388 non-null   int64  \n",
      " 23  host_total_listings_count                     5388 non-null   int64  \n",
      " 24  host_verifications                            5388 non-null   object \n",
      " 25  host_has_profile_pic                          5388 non-null   object \n",
      " 26  host_identity_verified                        5388 non-null   object \n",
      " 27  neighbourhood                                 3813 non-null   object \n",
      " 28  neighbourhood_cleansed                        5388 non-null   object \n",
      " 29  neighbourhood_group_cleansed                  0 non-null      float64\n",
      " 30  latitude                                      5388 non-null   float64\n",
      " 31  longitude                                     5388 non-null   float64\n",
      " 32  property_type                                 5388 non-null   object \n",
      " 33  room_type                                     5388 non-null   object \n",
      " 34  accommodates                                  5388 non-null   int64  \n",
      " 35  bathrooms                                     0 non-null      float64\n",
      " 36  bathrooms_text                                5386 non-null   object \n",
      " 37  bedrooms                                      4484 non-null   float64\n",
      " 38  beds                                          5358 non-null   float64\n",
      " 39  amenities                                     5388 non-null   object \n",
      " 40  price                                         5388 non-null   object \n",
      " 41  minimum_nights                                5388 non-null   int64  \n",
      " 42  maximum_nights                                5388 non-null   int64  \n",
      " 43  minimum_minimum_nights                        5388 non-null   int64  \n",
      " 44  maximum_minimum_nights                        5388 non-null   int64  \n",
      " 45  minimum_maximum_nights                        5388 non-null   int64  \n",
      " 46  maximum_maximum_nights                        5388 non-null   int64  \n",
      " 47  minimum_nights_avg_ntm                        5388 non-null   float64\n",
      " 48  maximum_nights_avg_ntm                        5388 non-null   float64\n",
      " 49  calendar_updated                              0 non-null      float64\n",
      " 50  has_availability                              5388 non-null   object \n",
      " 51  availability_30                               5388 non-null   int64  \n",
      " 52  availability_60                               5388 non-null   int64  \n",
      " 53  availability_90                               5388 non-null   int64  \n",
      " 54  availability_365                              5388 non-null   int64  \n",
      " 55  calendar_last_scraped                         5388 non-null   object \n",
      " 56  number_of_reviews                             5388 non-null   int64  \n",
      " 57  number_of_reviews_ltm                         5388 non-null   int64  \n",
      " 58  number_of_reviews_l30d                        5388 non-null   int64  \n",
      " 59  first_review                                  4603 non-null   object \n",
      " 60  last_review                                   4603 non-null   object \n",
      " 61  review_scores_rating                          4604 non-null   float64\n",
      " 62  review_scores_accuracy                        4601 non-null   float64\n",
      " 63  review_scores_cleanliness                     4601 non-null   float64\n",
      " 64  review_scores_checkin                         4601 non-null   float64\n",
      " 65  review_scores_communication                   4601 non-null   float64\n",
      " 66  review_scores_location                        4601 non-null   float64\n",
      " 67  review_scores_value                           4601 non-null   float64\n",
      " 68  license                                       3352 non-null   object \n",
      " 69  instant_bookable                              5388 non-null   object \n",
      " 70  calculated_host_listings_count                5388 non-null   int64  \n",
      " 71  calculated_host_listings_count_entire_homes   5388 non-null   int64  \n",
      " 72  calculated_host_listings_count_private_rooms  5388 non-null   int64  \n",
      " 73  calculated_host_listings_count_shared_rooms   5388 non-null   int64  \n",
      " 74  reviews_per_month                             4603 non-null   float64\n",
      "dtypes: float64(17), int64(23), object(35)\n",
      "memory usage: 3.1+ MB\n"
     ]
    },
    {
     "data": {
      "text/plain": [
       "None"
      ]
     },
     "metadata": {},
     "output_type": "display_data"
    },
    {
     "data": {
      "text/plain": [
       "(5388, 75)"
      ]
     },
     "metadata": {},
     "output_type": "display_data"
    }
   ],
   "source": [
    "display(airbnb_df.info())\n",
    "display(airbnb_df.shape)\n",
    "airbnb_columns = airbnb_df.columns.to_list()"
   ]
  },
  {
   "cell_type": "code",
   "execution_count": 224,
   "metadata": {},
   "outputs": [],
   "source": [
    "airbnb_columns_tokeep = \\\n",
    "['description',\n",
    " 'neighborhood_overview',\n",
    " 'host_neighbourhood',\n",
    " 'neighbourhood_cleansed',\n",
    " 'latitude',\n",
    " 'longitude',\n",
    " 'property_type',\n",
    " 'room_type',\n",
    " 'accommodates',\n",
    " 'bathrooms_text',\n",
    " 'bedrooms',\n",
    " 'beds',\n",
    " 'price',\n",
    " 'minimum_nights',\n",
    " 'maximum_nights',\n",
    " 'minimum_minimum_nights',\n",
    " 'maximum_minimum_nights',\n",
    " 'minimum_maximum_nights',\n",
    " 'maximum_maximum_nights',\n",
    " 'minimum_nights_avg_ntm',\n",
    " 'maximum_nights_avg_ntm',\n",
    " 'has_availability',\n",
    " 'number_of_reviews',\n",
    " 'number_of_reviews_ltm',\n",
    " 'number_of_reviews_l30d',\n",
    " 'first_review',\n",
    " 'last_review',\n",
    " 'review_scores_rating',\n",
    " 'review_scores_accuracy',\n",
    " 'review_scores_cleanliness',\n",
    " 'review_scores_checkin',\n",
    " 'review_scores_communication',\n",
    " 'review_scores_location',\n",
    " 'review_scores_value',\n",
    " 'instant_bookable',\n",
    " 'calculated_host_listings_count',\n",
    " 'reviews_per_month']\n"
   ]
  },
  {
   "cell_type": "code",
   "execution_count": 225,
   "metadata": {},
   "outputs": [],
   "source": [
    "#Reviewed total of 75 original columns, eliminated unnecessary columns or columns \n",
    "#with excessively null data\n",
    "airbnb_df = airbnb_df[airbnb_columns_tokeep]\n",
    "# filled null values with -1 for easy identification - no organic data would contain -1\n",
    "airbnb_df.fillna(-1,inplace=True)\n",
    "# airbnb_df"
   ]
  },
  {
   "cell_type": "code",
   "execution_count": 226,
   "metadata": {},
   "outputs": [
    {
     "name": "stdout",
     "output_type": "stream",
     "text": [
      "<class 'pandas.core.frame.DataFrame'>\n",
      "RangeIndex: 5388 entries, 0 to 5387\n",
      "Data columns (total 37 columns):\n",
      " #   Column                          Non-Null Count  Dtype  \n",
      "---  ------                          --------------  -----  \n",
      " 0   description                     5388 non-null   object \n",
      " 1   neighborhood_overview           5388 non-null   object \n",
      " 2   host_neighbourhood              5388 non-null   object \n",
      " 3   neighbourhood_cleansed          5388 non-null   object \n",
      " 4   latitude                        5388 non-null   float64\n",
      " 5   longitude                       5388 non-null   float64\n",
      " 6   property_type                   5388 non-null   object \n",
      " 7   room_type                       5388 non-null   object \n",
      " 8   accommodates                    5388 non-null   int64  \n",
      " 9   bathrooms_text                  5388 non-null   object \n",
      " 10  bedrooms                        5388 non-null   float64\n",
      " 11  beds                            5388 non-null   float64\n",
      " 12  price                           5388 non-null   object \n",
      " 13  minimum_nights                  5388 non-null   int64  \n",
      " 14  maximum_nights                  5388 non-null   int64  \n",
      " 15  minimum_minimum_nights          5388 non-null   int64  \n",
      " 16  maximum_minimum_nights          5388 non-null   int64  \n",
      " 17  minimum_maximum_nights          5388 non-null   int64  \n",
      " 18  maximum_maximum_nights          5388 non-null   int64  \n",
      " 19  minimum_nights_avg_ntm          5388 non-null   float64\n",
      " 20  maximum_nights_avg_ntm          5388 non-null   float64\n",
      " 21  has_availability                5388 non-null   object \n",
      " 22  number_of_reviews               5388 non-null   int64  \n",
      " 23  number_of_reviews_ltm           5388 non-null   int64  \n",
      " 24  number_of_reviews_l30d          5388 non-null   int64  \n",
      " 25  first_review                    5388 non-null   object \n",
      " 26  last_review                     5388 non-null   object \n",
      " 27  review_scores_rating            5388 non-null   float64\n",
      " 28  review_scores_accuracy          5388 non-null   float64\n",
      " 29  review_scores_cleanliness       5388 non-null   float64\n",
      " 30  review_scores_checkin           5388 non-null   float64\n",
      " 31  review_scores_communication     5388 non-null   float64\n",
      " 32  review_scores_location          5388 non-null   float64\n",
      " 33  review_scores_value             5388 non-null   float64\n",
      " 34  instant_bookable                5388 non-null   object \n",
      " 35  calculated_host_listings_count  5388 non-null   int64  \n",
      " 36  reviews_per_month               5388 non-null   float64\n",
      "dtypes: float64(14), int64(11), object(12)\n",
      "memory usage: 1.5+ MB\n"
     ]
    },
    {
     "data": {
      "text/plain": [
       "None"
      ]
     },
     "metadata": {},
     "output_type": "display_data"
    }
   ],
   "source": [
    "display(airbnb_df.info())\n",
    "# reviewed for columns with inappropriate data types, identified:\n",
    "# bathrooms_text, price, first_review, last_review"
   ]
  },
  {
   "cell_type": "code",
   "execution_count": 227,
   "metadata": {},
   "outputs": [],
   "source": [
    "#using regular expressions to extract the number of bathrooms\n",
    "bathroom_re_format = r'(.*?)( .*)'\n",
    "def extract_bathroom_count(string):\n",
    "    string = str(string)\n",
    "    re_return = re.match(bathroom_re_format, string)\n",
    "    return float(re_return.group(1)) if re_return else None\n",
    "airbnb_df['bathroom_count'] = airbnb_df['bathrooms_text'].apply(extract_bathroom_count)\n",
    "\n",
    "#Using string methods to convert price to a numerical value\n",
    "airbnb_df['price'] = airbnb_df['price'].str.replace(',','').str.strip('$')\n",
    "airbnb_df['price'] = pd.to_numeric(airbnb_df['price'])"
   ]
  },
  {
   "cell_type": "code",
   "execution_count": 231,
   "metadata": {},
   "outputs": [],
   "source": [
    "#Removing Price outliers (found to be likely glitches / faulty data)\n",
    "airbnb_df = airbnb_df.loc[airbnb_df['price'] < 2001]\n",
    "#Changing first and last reviews to datetimes\n",
    "airbnb_df['first_review'] = pd.to_datetime(airbnb_df['first_review'], errors='coerce')\n",
    "airbnb_df['last_review'] = pd.to_datetime(airbnb_df['last_review'], errors='coerce')"
   ]
  },
  {
   "cell_type": "code",
   "execution_count": 234,
   "metadata": {},
   "outputs": [
    {
     "name": "stdout",
     "output_type": "stream",
     "text": [
      "<class 'pandas.core.frame.DataFrame'>\n",
      "Index: 5367 entries, 0 to 5387\n",
      "Data columns (total 38 columns):\n",
      " #   Column                          Non-Null Count  Dtype         \n",
      "---  ------                          --------------  -----         \n",
      " 0   description                     5367 non-null   object        \n",
      " 1   neighborhood_overview           5367 non-null   object        \n",
      " 2   host_neighbourhood              5367 non-null   object        \n",
      " 3   neighbourhood_cleansed          5367 non-null   object        \n",
      " 4   latitude                        5367 non-null   float64       \n",
      " 5   longitude                       5367 non-null   float64       \n",
      " 6   property_type                   5367 non-null   object        \n",
      " 7   room_type                       5367 non-null   object        \n",
      " 8   accommodates                    5367 non-null   int64         \n",
      " 9   bathrooms_text                  5367 non-null   object        \n",
      " 10  bedrooms                        5367 non-null   float64       \n",
      " 11  beds                            5367 non-null   float64       \n",
      " 12  price                           5367 non-null   float64       \n",
      " 13  minimum_nights                  5367 non-null   int64         \n",
      " 14  maximum_nights                  5367 non-null   int64         \n",
      " 15  minimum_minimum_nights          5367 non-null   int64         \n",
      " 16  maximum_minimum_nights          5367 non-null   int64         \n",
      " 17  minimum_maximum_nights          5367 non-null   int64         \n",
      " 18  maximum_maximum_nights          5367 non-null   int64         \n",
      " 19  minimum_nights_avg_ntm          5367 non-null   float64       \n",
      " 20  maximum_nights_avg_ntm          5367 non-null   float64       \n",
      " 21  has_availability                5367 non-null   object        \n",
      " 22  number_of_reviews               5367 non-null   int64         \n",
      " 23  number_of_reviews_ltm           5367 non-null   int64         \n",
      " 24  number_of_reviews_l30d          5367 non-null   int64         \n",
      " 25  first_review                    4588 non-null   datetime64[ns]\n",
      " 26  last_review                     4588 non-null   datetime64[ns]\n",
      " 27  review_scores_rating            5367 non-null   float64       \n",
      " 28  review_scores_accuracy          5367 non-null   float64       \n",
      " 29  review_scores_cleanliness       5367 non-null   float64       \n",
      " 30  review_scores_checkin           5367 non-null   float64       \n",
      " 31  review_scores_communication     5367 non-null   float64       \n",
      " 32  review_scores_location          5367 non-null   float64       \n",
      " 33  review_scores_value             5367 non-null   float64       \n",
      " 34  instant_bookable                5367 non-null   object        \n",
      " 35  calculated_host_listings_count  5367 non-null   int64         \n",
      " 36  reviews_per_month               5367 non-null   float64       \n",
      " 37  bathroom_count                  5363 non-null   float64       \n",
      "dtypes: datetime64[ns](2), float64(16), int64(11), object(9)\n",
      "memory usage: 1.6+ MB\n"
     ]
    }
   ],
   "source": [
    "airbnb_df.info()"
   ]
  },
  {
   "cell_type": "markdown",
   "metadata": {},
   "source": [
    "# Starbucks Data Cleaning"
   ]
  }
 ],
 "metadata": {
  "kernelspec": {
   "display_name": "base",
   "language": "python",
   "name": "python3"
  },
  "language_info": {
   "codemirror_mode": {
    "name": "ipython",
    "version": 3
   },
   "file_extension": ".py",
   "mimetype": "text/x-python",
   "name": "python",
   "nbconvert_exporter": "python",
   "pygments_lexer": "ipython3",
   "version": "3.11.4"
  }
 },
 "nbformat": 4,
 "nbformat_minor": 2
}
