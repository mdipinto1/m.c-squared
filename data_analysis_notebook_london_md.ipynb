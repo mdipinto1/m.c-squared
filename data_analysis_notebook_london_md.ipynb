{
 "cells": [
  {
   "cell_type": "code",
   "execution_count": null,
   "metadata": {},
   "outputs": [],
   "source": [
    "import ast\n",
    "import pandas as pd \n",
    "import timeit\n",
    "import numpy as np \n",
    "from statistics import mean\n",
    "import prophet\n",
    "import pydeck as pdk"
   ]
  },
  {
   "cell_type": "markdown",
   "metadata": {},
   "source": [
    "# Imports"
   ]
  },
  {
   "cell_type": "code",
   "execution_count": null,
   "metadata": {},
   "outputs": [],
   "source": [
    "#Import two data-sets\n",
    "starbucks_df = pd.read_csv('./Clean_Data/London_Starbucks_Data.csv')\n",
    "airbnb_df = pd.read_csv('./Clean_Data/London_AirBNB_Data.csv')\n",
    "#Convert List columns stored as strings to lists\n",
    "starbucks_df['airbnb_distances'] = starbucks_df['airbnb_distances'].apply(ast.literal_eval)\n",
    "airbnb_df['starbucks_distances'] = airbnb_df['starbucks_distances'].apply(ast.literal_eval)\n",
    "#Convert Date columns to Datetime\n",
    "airbnb_df['first_review'] = pd.to_datetime(airbnb_df['first_review'])\n",
    "airbnb_df['last_review'] = pd.to_datetime(airbnb_df['last_review'])\n",
    "#Preview to verify\n",
    "display(starbucks_df.head(1))\n",
    "display(starbucks_df.info())\n",
    "\n",
    "display(airbnb_df.head(1))\n",
    "display(airbnb_df.info())"
   ]
  },
  {
   "cell_type": "markdown",
   "metadata": {},
   "source": [
    "# Data Analytics"
   ]
  },
  {
   "cell_type": "code",
   "execution_count": null,
   "metadata": {},
   "outputs": [],
   "source": [
    "#Manually assigned distances of interest\n",
    "bins = [.1, .25, .5, 1, 2, 5]\n",
    "#Define a function that loops through each 'bin' (not technically correct)\n",
    "#and counts starbucks within that range, then populate a column with that count\n",
    "#for future plots\n",
    "def airbnb_to_starbucks():\n",
    "    for bin in bins:\n",
    "        def nested_bin(row):\n",
    "            dist_to_sb_list = row['starbucks_distances']\n",
    "            sb_within_range = [x for x in dist_to_sb_list if x < bin]\n",
    "            return len(sb_within_range)\n",
    "        column_name = f\"SB_within_{bin}_miles\"\n",
    "        airbnb_df[column_name] = airbnb_df.apply(nested_bin, axis=1)\n",
    "# Run the function\n",
    "airbnb_to_starbucks()\n",
    "# Do it again for starbucks\n",
    "def starbucks_to_airbnb():\n",
    "    for bin in bins:\n",
    "        def nested_bin(row):\n",
    "            dist_to_bnb_list = row['airbnb_distances']\n",
    "            bnb_within_range = [x for x in dist_to_bnb_list if x < bin]\n",
    "            return len(bnb_within_range)\n",
    "        column_name = f\"Airbnb_within_{bin}_miles\"\n",
    "        starbucks_df[column_name] = starbucks_df.apply(nested_bin, axis=1)\n",
    "starbucks_to_airbnb()"
   ]
  },
  {
   "cell_type": "code",
   "execution_count": null,
   "metadata": {},
   "outputs": [],
   "source": [
    "#calculate the average distance to the nearest 5 starbucks or bnbs\n",
    "def mean_dist_nearest_5_sb(row):\n",
    "    dist_list = row['starbucks_distances']\n",
    "    dist_list.sort()\n",
    "    return round(mean(dist_list[:5]),2)\n",
    "\n",
    "def mean_dist_nearest_5_bnb(row):\n",
    "    dist_list = row['airbnb_distances']\n",
    "    dist_list.sort()\n",
    "    return round(mean(dist_list[:5]),2)\n",
    "\n",
    "airbnb_df['nearest_5_avg'] = airbnb_df.apply(mean_dist_nearest_5_sb, axis=1)\n",
    "starbucks_df['nearest_5_avg'] = starbucks_df.apply(mean_dist_nearest_5_bnb, axis=1)"
   ]
  },
  {
   "cell_type": "code",
   "execution_count": null,
   "metadata": {},
   "outputs": [],
   "source": [
    "#Add a column for \"price per occupant\" \n",
    "airbnb_df['price_per_occupant'] = round(airbnb_df['price']/airbnb_df['accommodates'],2)"
   ]
  },
  {
   "cell_type": "code",
   "execution_count": null,
   "metadata": {},
   "outputs": [],
   "source": [
    "first_review_df = airbnb_df.copy()\n",
    "first_review_df.dropna(how='any', inplace=True)\n",
    "first_review_df.set_index('first_review',inplace=True)\n",
    "first_review_df_agg = first_review_df.groupby([first_review_df.index.year, first_review_df.index.month])\n",
    "first_review_df_agg = first_review_df_agg['id'].count().to_frame()\n",
    "first_review_df_agg.columns = ['Total_New_Airbnbs']\n",
    "first_review_df_agg['dateseries'] = pd.to_datetime(first_review_df_agg.index.get_level_values(0).astype(str)+'-'+first_review_df_agg.index.get_level_values(1).astype(str))\n",
    "first_review_df_agg.set_index('dateseries',inplace=True)\n",
    "first_review_df_agg.reset_index(inplace=True)\n",
    "first_review_df_agg.columns = ['ds','y']\n",
    "# first_review_df_agg.to_csv('./Clean_Data/DateSeries_Prophet.csv')\n"
   ]
  },
  {
   "cell_type": "code",
   "execution_count": null,
   "metadata": {},
   "outputs": [],
   "source": [
    "def total_bnbs(row):\n",
    "    date = row['ds']\n",
    "    total = first_review_df_agg.loc[first_review_df_agg['ds'] <= date]['y'].sum()\n",
    "    return total\n",
    "\n",
    "first_review_df_agg['total_airbnbs'] = first_review_df_agg.apply(total_bnbs, axis=1)\n",
    "\n",
    "total_bnb_df = first_review_df_agg[['ds','total_airbnbs']].rename(columns={'total_airbnbs':'y'})\n",
    "new_bnb_df = first_review_df_agg[['ds','y']]"
   ]
  },
  {
   "cell_type": "code",
   "execution_count": null,
   "metadata": {},
   "outputs": [],
   "source": [
    "#model and plot for new airbnbs\n",
    "m = prophet.Prophet()\n",
    "m.fit(new_bnb_df)\n",
    "future_df = m.make_future_dataframe(periods=60, freq='M')\n",
    "forecast = m.predict(future_df)\n",
    "m.plot_components(forecast)"
   ]
  },
  {
   "cell_type": "code",
   "execution_count": null,
   "metadata": {},
   "outputs": [],
   "source": [
    "m.plot(forecast)"
   ]
  },
  {
   "cell_type": "code",
   "execution_count": null,
   "metadata": {},
   "outputs": [],
   "source": [
    "#model and plot for total airbnbs\n",
    "m2 = prophet.Prophet()\n",
    "m2.fit(total_bnb_df)\n",
    "future_df2 = m2.make_future_dataframe(periods=60, freq='M')\n",
    "forecast2 = m2.predict(future_df2)\n",
    "m2.plot_components(forecast2)"
   ]
  },
  {
   "cell_type": "markdown",
   "metadata": {},
   "source": [
    "# Visualizations"
   ]
  },
  {
   "cell_type": "markdown",
   "metadata": {},
   "source": [
    "### Reviews with respect to the number of starbucks within 0.5 miles (distance may change based on group-by line)"
   ]
  },
  {
   "cell_type": "code",
   "execution_count": null,
   "metadata": {},
   "outputs": [],
   "source": [
    "#Aggregate reviews by the number of SB within X miles\n",
    "airbnb_df_reviewed_only = airbnb_df.loc[airbnb_df['review_scores_rating'] != -1]\n",
    "aggregate_bnb_df = airbnb_df_reviewed_only.groupby(by=['SB_within_0.5_miles'])\n",
    "agg_bnb_df_mean = aggregate_bnb_df[['price', 'review_scores_rating','review_scores_location']].mean()\n",
    "display(aggregate_bnb_df['review_scores_rating'].count())\n",
    "agg_bnb_df_mean[['review_scores_rating','review_scores_location']].plot(figsize=(12,8), ylim=(4.3,5))"
   ]
  },
  {
   "cell_type": "markdown",
   "metadata": {},
   "source": [
    "### Not very helpful scatter-plot of reviews vs average distance to nearest 5 SB"
   ]
  },
  {
   "cell_type": "code",
   "execution_count": null,
   "metadata": {},
   "outputs": [],
   "source": [
    "airbnb_df.loc[(airbnb_df['review_scores_rating'] != -1) & (airbnb_df['number_of_reviews'] > 10)]\\\n",
    "    .plot(x='nearest_5_avg', y='review_scores_rating', kind='scatter', ylim=(4.1, 5.1), figsize=(12,8), s=1)"
   ]
  },
  {
   "cell_type": "markdown",
   "metadata": {},
   "source": [
    "### Chart Depicting Reviews vs mileage to the nearest 5 starbucks"
   ]
  },
  {
   "cell_type": "code",
   "execution_count": null,
   "metadata": {},
   "outputs": [],
   "source": [
    "#actual binning of the data by nearest_5_avg\n",
    "nearest_5_bins = [0, 0.25, 0.5, 1, 2, 5]\n",
    "labels = [1,2,3,4,5]\n",
    "airbnb_df['nearest_5_distance_bins']=pd.cut(airbnb_df['nearest_5_avg'], bins=nearest_5_bins, labels=labels)\n",
    "grouped_near5_airbnb = airbnb_df.loc[airbnb_df['review_scores_rating'] != -1].groupby('nearest_5_distance_bins')\n",
    "plt = grouped_near5_airbnb[['review_scores_rating', 'review_scores_location']].mean().plot(figsize=(12,6))\n",
    "plt.set_xticks([0,1,2,3,4])\n",
    "plt.set_xlim((-.1,4.1))\n",
    "plt.set_xticklabels(['<.25','0.25 - 0.5','0.5 - 1.0','1.0 - 2.0','2.0 - 5.0'])\n",
    "plt.set_xlabel(\"Distance Bins (miles)\")\n",
    "plt.set_ylabel(\"Average Review\")"
   ]
  },
  {
   "cell_type": "markdown",
   "metadata": {},
   "source": [
    "### Average Price with respect to distance to nearest 5 starbucks (same bins as above)"
   ]
  },
  {
   "cell_type": "code",
   "execution_count": null,
   "metadata": {},
   "outputs": [],
   "source": [
    "plt2 = grouped_near5_airbnb[['price_per_occupant']].mean().plot(figsize=(12,6))\n",
    "plt2.set_xticks([0,1,2,3,4])\n",
    "plt2.set_xticklabels(['<.25','0.25 - 0.5','0.5 - 1.0','1.0 - 2.0','2.0 - 5.0'])\n",
    "plt2.set_xlabel(\"Distance Bins (miles)\")\n",
    "plt2.set_ylabel(\"Average Price ($ Per Accomodated Guest)\")"
   ]
  },
  {
   "cell_type": "markdown",
   "metadata": {},
   "source": [
    "# Testing that supported decisions while writing"
   ]
  },
  {
   "cell_type": "code",
   "execution_count": null,
   "metadata": {},
   "outputs": [],
   "source": [
    "#speed testing list comprehension vs. numpy eval:\n",
    "def numpy_speed():\n",
    "    data_list = starbucks_df['airbnb_distances'][0]\n",
    "    numpy_array = np.array(data_list)\n",
    "    nearby_distances = numpy_array[numpy_array < 1]\n",
    "    nearby_distances = np.sort(nearby_distances)\n",
    "    nearby_count = len(nearby_distances)\n",
    "    return(nearby_count,nearby_distances)\n",
    "\n",
    "time_taken_numpy = timeit.timeit(numpy_speed, number=5000)\n",
    "\n",
    "def list_speed():\n",
    "    data_list = starbucks_df['airbnb_distances'][0]\n",
    "    keep_list = [x for x in data_list if x < 1]\n",
    "    keep_list.sort()\n",
    "    nearby_count = len(keep_list)\n",
    "    return(nearby_count,keep_list)\n",
    "\n",
    "time_taken_list = timeit.timeit(list_speed, number=1000)\n",
    "\n",
    "print(f\"numpy: {time_taken_numpy}\")\n",
    "print(f\"list comprehension: {time_taken_list}\")\n",
    "\n",
    "#list comprehension was consistently ~5-10% faster"
   ]
  },
  {
   "cell_type": "code",
   "execution_count": null,
   "metadata": {},
   "outputs": [],
   "source": [
    "#Prepping Data into lat and long bins for geographical plotting\n",
    "pydeck_df = airbnb_df[['latitude','longitude']].copy()\n",
    "lat_min = pydeck_df['latitude'].min()\n",
    "lat_max = pydeck_df['latitude'].max()\n",
    "long_min = pydeck_df['longitude'].min()\n",
    "long_max = pydeck_df['longitude'].max()\n",
    "bin_count = 30\n",
    "\n",
    "#Generate Bin Limits\n",
    "lat_step = round((lat_max-lat_min)/bin_count,3)\n",
    "long_step = round((long_max-long_min)/bin_count,3)\n",
    "lat_bins = np.arange(lat_min,lat_max,lat_step)\n",
    "long_bins = np.arange(long_min,long_max,long_step)\n",
    "\n",
    "#The following solves some rounding errors that didn't bin data\n",
    "lat_bins[0] -= .01\n",
    "lat_bins[-1] += .01\n",
    "long_bins[0] -= .01\n",
    "long_bins[-1] += .01\n",
    "\n",
    "#Generate Grid Centers\n",
    "lat_centers = []\n",
    "for index, item in enumerate(lat_bins):\n",
    "    try:\n",
    "        coord_center = (lat_bins[index] + lat_bins[index+1])/2\n",
    "        lat_centers.append(coord_center)\n",
    "    except IndexError:\n",
    "        pass\n",
    "\n",
    "long_centers = []\n",
    "for index, item in enumerate(lat_bins):\n",
    "    try:\n",
    "        coord_center = (long_bins[index] + long_bins[index+1])/2\n",
    "        long_centers.append(coord_center)\n",
    "    except IndexError:\n",
    "        pass\n",
    "#Populate bins\n",
    "pydeck_df['lat_bins'] = pd.cut(pydeck_df['latitude'], bins=lat_bins, labels=range(len(lat_bins)-1))\n",
    "pydeck_df['long_bins'] = pd.cut(pydeck_df['longitude'], bins=long_bins, labels=range(len(long_bins)-1))\n",
    "\n",
    "#Generate Pixels\n",
    "pixel_pairs = []\n",
    "for latitude in lat_centers:\n",
    "    for longitude in long_centers:\n",
    "        pair = [latitude, longitude]\n",
    "        pixel_pairs.append(pair)\n",
    "\n",
    "index_pairs = []\n",
    "for x in range(len(lat_centers)):\n",
    "    for y in range(len(long_centers)):\n",
    "        pair = [x,y]\n",
    "        index_pairs.append(pair)\n",
    "pydeck_summary_df = pd.DataFrame({'xy_pair':index_pairs,'latlong_pair':pixel_pairs})\n",
    "def pixel_counter(row):\n",
    "    bin = row['xy_pair']\n",
    "    count = len(pydeck_df.loc[(pydeck_df['lat_bins'] == bin[0]) & (pydeck_df['long_bins'] == bin[1])])\n",
    "    return count\n",
    "\n",
    "pydeck_summary_df['AirBnb_Count'] = pydeck_summary_df.apply(pixel_counter, axis=1)\n",
    "pydeck_summary_df['lat'] = pydeck_summary_df['latlong_pair'].apply(lambda x: x[0] if x else None)\n",
    "pydeck_summary_df['long'] = pydeck_summary_df['latlong_pair'].apply(lambda x: x[1] if x else None)\n",
    "pydeck_summary_df = pydeck_summary_df.loc[pydeck_summary_df['AirBnb_Count'] > 0 ]"
   ]
  },
  {
   "cell_type": "code",
   "execution_count": null,
   "metadata": {},
   "outputs": [],
   "source": [
    "pydeck_summary_df"
   ]
  },
  {
   "cell_type": "code",
   "execution_count": null,
   "metadata": {},
   "outputs": [],
   "source": [
    "#speed testing list comprehension vs. numpy eval:\n",
    "def numpy_speed():\n",
    "    data_list = starbucks_df['airbnb_distances'][0]\n",
    "    numpy_array = np.array(data_list)\n",
    "    nearby_distances = numpy_array[numpy_array < 1]\n",
    "    nearby_distances = np.sort(nearby_distances)\n",
    "    nearby_count = len(nearby_distances)\n",
    "    return(nearby_count,nearby_distances)\n",
    "\n",
    "time_taken_numpy = timeit.timeit(numpy_speed, number=5000)\n",
    "\n",
    "def list_speed():\n",
    "    data_list = starbucks_df['airbnb_distances'][0]\n",
    "    keep_list = [x for x in data_list if x < 1]\n",
    "    keep_list.sort()\n",
    "    nearby_count = len(keep_list)\n",
    "    return(nearby_count,keep_list)\n",
    "\n",
    "time_taken_list = timeit.timeit(list_speed, number=1000)\n",
    "\n",
    "print(f\"numpy: {time_taken_numpy}\")\n",
    "print(f\"list comprehension: {time_taken_list}\")\n",
    "\n",
    "#list comprehension was consistently ~5-10% faster"
   ]
  },
  {
   "cell_type": "code",
   "execution_count": null,
   "metadata": {},
   "outputs": [],
   "source": [
    "#Learning how to use pydeck\n",
    "# Build the map layer:    \n",
    "airbnbs = pdk.Layer(type='ColumnLayer',\n",
    "                  data=pydeck_summary_df,\n",
    "                  opacity=0.3 ,\n",
    "                  get_position=['long','lat'],\n",
    "                  get_elevation='AirBnb_Count',\n",
    "                  auto_highlight=True,\n",
    "                  elevation_scale=2,\n",
    "                  pickable=True,\n",
    "                  get_fill_color=['AirBnb_Count', 130],\n",
    "                  coverage=12/(bin_count))\n",
    "\n",
    "starbucks = pdk.Layer(\n",
    "    \"HeatmapLayer\",\n",
    "    data=starbucks_df,\n",
    "    opacity=0.8,\n",
    "    get_position=[\"longitude\", \"latitude\"],\n",
    "    threshold=0.75,\n",
    "    aggregation=pdk.types.String(\"SUM\"),\n",
    "    get_weight=4,\n",
    "    pickable=True,\n",
    ")\n",
    "\n",
    "# Set the view parameters:\n",
    "view_state = pdk.ViewState(longitude=pydeck_summary_df['long'].mean(), \n",
    "                           latitude=pydeck_summary_df['lat'].mean(),\n",
    "                           zoom=10,\n",
    "                           min_zoom=9,\n",
    "                           max_zoom=16,\n",
    "                           pitch=45.0,\n",
    "                           bearing=30)\n",
    "\n",
    "# Render the map:\n",
    "r = pdk.Deck(layers=[airbnbs, starbucks], initial_view_state=view_state, map_style=pdk.map_styles.CARTO_DARK_NO_LABELS)\n",
    "r.to_html('london_airbnb.html')"
   ]
  },
  {
   "cell_type": "code",
   "execution_count": null,
   "metadata": {},
   "outputs": [],
   "source": [
    "import zipfile\n",
    "import os"
   ]
  },
  {
   "cell_type": "code",
   "execution_count": null,
   "metadata": {},
   "outputs": [
    {
     "data": {
      "text/plain": [
       "'c:\\\\Users\\\\matt.dipinto\\\\DataClass\\\\m.c-squared'"
      ]
     },
     "execution_count": 43,
     "metadata": {},
     "output_type": "execute_result"
    }
   ],
   "source": [
    "# File paths\n",
    "file_to_zip = './london_airbnb.html'\n",
    "zip_file_name = 'london_map.zip'\n",
    "\n",
    "# Create a new zip file\n",
    "with zipfile.ZipFile(zip_file_name, 'w', zipfile.ZIP_DEFLATED) as zipf:\n",
    "    zipf.write(file_to_zip, arcname='file.txt')\n",
    "\n",
    "print(\"File zipped successfully\")\n",
    "#File is ignored, so no need to delete, but an option\n",
    "# os.remove('london_airbnb.html')\n"
   ]
  }
 ],
 "metadata": {
  "kernelspec": {
   "display_name": "base",
   "language": "python",
   "name": "python3"
  },
  "language_info": {
   "codemirror_mode": {
    "name": "ipython",
    "version": 3
   },
   "file_extension": ".py",
   "mimetype": "text/x-python",
   "name": "python",
   "nbconvert_exporter": "python",
   "pygments_lexer": "ipython3",
   "version": "3.11.4"
  }
 },
 "nbformat": 4,
 "nbformat_minor": 2
}
