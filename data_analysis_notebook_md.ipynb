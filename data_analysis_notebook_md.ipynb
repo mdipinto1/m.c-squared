{
 "cells": [
  {
   "cell_type": "code",
   "execution_count": 89,
   "metadata": {},
   "outputs": [],
   "source": [
    "import ast\n",
    "import pandas as pd \n",
    "import timeit\n",
    "import numpy as np \n",
    "from statistics import mean"
   ]
  },
  {
   "cell_type": "markdown",
   "metadata": {},
   "source": [
    "# Imports"
   ]
  },
  {
   "cell_type": "code",
   "execution_count": 2,
   "metadata": {},
   "outputs": [
    {
     "data": {
      "text/html": [
       "<div>\n",
       "<style scoped>\n",
       "    .dataframe tbody tr th:only-of-type {\n",
       "        vertical-align: middle;\n",
       "    }\n",
       "\n",
       "    .dataframe tbody tr th {\n",
       "        vertical-align: top;\n",
       "    }\n",
       "\n",
       "    .dataframe thead th {\n",
       "        text-align: right;\n",
       "    }\n",
       "</style>\n",
       "<table border=\"1\" class=\"dataframe\">\n",
       "  <thead>\n",
       "    <tr style=\"text-align: right;\">\n",
       "      <th></th>\n",
       "      <th>store_id</th>\n",
       "      <th>index</th>\n",
       "      <th>countryCode</th>\n",
       "      <th>ownershipTypeCode</th>\n",
       "      <th>latitude</th>\n",
       "      <th>longitude</th>\n",
       "      <th>city</th>\n",
       "      <th>countrySubdivisionCode</th>\n",
       "      <th>postalCode</th>\n",
       "      <th>distance_to_den</th>\n",
       "      <th>airbnb_distances</th>\n",
       "    </tr>\n",
       "  </thead>\n",
       "  <tbody>\n",
       "    <tr>\n",
       "      <th>0</th>\n",
       "      <td>1743</td>\n",
       "      <td>3739</td>\n",
       "      <td>US</td>\n",
       "      <td>CO</td>\n",
       "      <td>39.65278</td>\n",
       "      <td>-104.928197</td>\n",
       "      <td>Denver</td>\n",
       "      <td>CO</td>\n",
       "      <td>80222</td>\n",
       "      <td>6.65</td>\n",
       "      <td>[8.77, 8.31, 7.12, 7.1, 7.03, 5.96, 6.87, 9.22...</td>\n",
       "    </tr>\n",
       "  </tbody>\n",
       "</table>\n",
       "</div>"
      ],
      "text/plain": [
       "   store_id  index countryCode ownershipTypeCode  latitude   longitude  \\\n",
       "0      1743   3739          US                CO  39.65278 -104.928197   \n",
       "\n",
       "     city countrySubdivisionCode  postalCode  distance_to_den  \\\n",
       "0  Denver                     CO       80222             6.65   \n",
       "\n",
       "                                    airbnb_distances  \n",
       "0  [8.77, 8.31, 7.12, 7.1, 7.03, 5.96, 6.87, 9.22...  "
      ]
     },
     "metadata": {},
     "output_type": "display_data"
    },
    {
     "name": "stdout",
     "output_type": "stream",
     "text": [
      "<class 'pandas.core.frame.DataFrame'>\n",
      "RangeIndex: 303 entries, 0 to 302\n",
      "Data columns (total 11 columns):\n",
      " #   Column                  Non-Null Count  Dtype  \n",
      "---  ------                  --------------  -----  \n",
      " 0   store_id                303 non-null    int64  \n",
      " 1   index                   303 non-null    int64  \n",
      " 2   countryCode             303 non-null    object \n",
      " 3   ownershipTypeCode       303 non-null    object \n",
      " 4   latitude                303 non-null    float64\n",
      " 5   longitude               303 non-null    float64\n",
      " 6   city                    303 non-null    object \n",
      " 7   countrySubdivisionCode  303 non-null    object \n",
      " 8   postalCode              303 non-null    int64  \n",
      " 9   distance_to_den         303 non-null    float64\n",
      " 10  airbnb_distances        303 non-null    object \n",
      "dtypes: float64(3), int64(3), object(5)\n",
      "memory usage: 26.2+ KB\n"
     ]
    },
    {
     "data": {
      "text/plain": [
       "None"
      ]
     },
     "metadata": {},
     "output_type": "display_data"
    },
    {
     "data": {
      "text/html": [
       "<div>\n",
       "<style scoped>\n",
       "    .dataframe tbody tr th:only-of-type {\n",
       "        vertical-align: middle;\n",
       "    }\n",
       "\n",
       "    .dataframe tbody tr th {\n",
       "        vertical-align: top;\n",
       "    }\n",
       "\n",
       "    .dataframe thead th {\n",
       "        text-align: right;\n",
       "    }\n",
       "</style>\n",
       "<table border=\"1\" class=\"dataframe\">\n",
       "  <thead>\n",
       "    <tr style=\"text-align: right;\">\n",
       "      <th></th>\n",
       "      <th>id</th>\n",
       "      <th>description</th>\n",
       "      <th>neighborhood_overview</th>\n",
       "      <th>host_neighbourhood</th>\n",
       "      <th>neighbourhood_cleansed</th>\n",
       "      <th>latitude</th>\n",
       "      <th>longitude</th>\n",
       "      <th>property_type</th>\n",
       "      <th>room_type</th>\n",
       "      <th>accommodates</th>\n",
       "      <th>...</th>\n",
       "      <th>review_scores_checkin</th>\n",
       "      <th>review_scores_communication</th>\n",
       "      <th>review_scores_location</th>\n",
       "      <th>review_scores_value</th>\n",
       "      <th>instant_bookable</th>\n",
       "      <th>calculated_host_listings_count</th>\n",
       "      <th>reviews_per_month</th>\n",
       "      <th>bathroom_count</th>\n",
       "      <th>starbucks_distances</th>\n",
       "      <th>starbucks_review_mentions</th>\n",
       "    </tr>\n",
       "  </thead>\n",
       "  <tbody>\n",
       "    <tr>\n",
       "      <th>0</th>\n",
       "      <td>360</td>\n",
       "      <td>Enjoy the famous Colorado weather and unplug i...</td>\n",
       "      <td>The cottage is located in the center of Lower ...</td>\n",
       "      <td>Highland</td>\n",
       "      <td>Highland</td>\n",
       "      <td>39.766415</td>\n",
       "      <td>-105.002098</td>\n",
       "      <td>Entire guesthouse</td>\n",
       "      <td>Entire home/apt</td>\n",
       "      <td>3</td>\n",
       "      <td>...</td>\n",
       "      <td>5.0</td>\n",
       "      <td>5.0</td>\n",
       "      <td>5.0</td>\n",
       "      <td>4.91</td>\n",
       "      <td>f</td>\n",
       "      <td>2</td>\n",
       "      <td>2.87</td>\n",
       "      <td>1.0</td>\n",
       "      <td>[8.77, 9.04, 9.19, 7.71, 7.6, 8.33, 7.4, 9.44,...</td>\n",
       "      <td>0</td>\n",
       "    </tr>\n",
       "  </tbody>\n",
       "</table>\n",
       "<p>1 rows × 33 columns</p>\n",
       "</div>"
      ],
      "text/plain": [
       "    id                                        description  \\\n",
       "0  360  Enjoy the famous Colorado weather and unplug i...   \n",
       "\n",
       "                               neighborhood_overview host_neighbourhood  \\\n",
       "0  The cottage is located in the center of Lower ...           Highland   \n",
       "\n",
       "  neighbourhood_cleansed   latitude   longitude      property_type  \\\n",
       "0               Highland  39.766415 -105.002098  Entire guesthouse   \n",
       "\n",
       "         room_type  accommodates  ... review_scores_checkin  \\\n",
       "0  Entire home/apt             3  ...                   5.0   \n",
       "\n",
       "   review_scores_communication  review_scores_location  review_scores_value  \\\n",
       "0                          5.0                     5.0                 4.91   \n",
       "\n",
       "  instant_bookable  calculated_host_listings_count  reviews_per_month  \\\n",
       "0                f                               2               2.87   \n",
       "\n",
       "   bathroom_count                                starbucks_distances  \\\n",
       "0             1.0  [8.77, 9.04, 9.19, 7.71, 7.6, 8.33, 7.4, 9.44,...   \n",
       "\n",
       "  starbucks_review_mentions  \n",
       "0                         0  \n",
       "\n",
       "[1 rows x 33 columns]"
      ]
     },
     "metadata": {},
     "output_type": "display_data"
    },
    {
     "name": "stdout",
     "output_type": "stream",
     "text": [
      "<class 'pandas.core.frame.DataFrame'>\n",
      "RangeIndex: 5367 entries, 0 to 5366\n",
      "Data columns (total 33 columns):\n",
      " #   Column                          Non-Null Count  Dtype  \n",
      "---  ------                          --------------  -----  \n",
      " 0   id                              5367 non-null   int64  \n",
      " 1   description                     5367 non-null   object \n",
      " 2   neighborhood_overview           5367 non-null   object \n",
      " 3   host_neighbourhood              5367 non-null   object \n",
      " 4   neighbourhood_cleansed          5367 non-null   object \n",
      " 5   latitude                        5367 non-null   float64\n",
      " 6   longitude                       5367 non-null   float64\n",
      " 7   property_type                   5367 non-null   object \n",
      " 8   room_type                       5367 non-null   object \n",
      " 9   accommodates                    5367 non-null   int64  \n",
      " 10  bathrooms_text                  5367 non-null   object \n",
      " 11  bedrooms                        5367 non-null   float64\n",
      " 12  beds                            5367 non-null   float64\n",
      " 13  price                           5367 non-null   float64\n",
      " 14  has_availability                5367 non-null   object \n",
      " 15  number_of_reviews               5367 non-null   int64  \n",
      " 16  number_of_reviews_ltm           5367 non-null   int64  \n",
      " 17  number_of_reviews_l30d          5367 non-null   int64  \n",
      " 18  first_review                    4588 non-null   object \n",
      " 19  last_review                     4588 non-null   object \n",
      " 20  review_scores_rating            5367 non-null   float64\n",
      " 21  review_scores_accuracy          5367 non-null   float64\n",
      " 22  review_scores_cleanliness       5367 non-null   float64\n",
      " 23  review_scores_checkin           5367 non-null   float64\n",
      " 24  review_scores_communication     5367 non-null   float64\n",
      " 25  review_scores_location          5367 non-null   float64\n",
      " 26  review_scores_value             5367 non-null   float64\n",
      " 27  instant_bookable                5367 non-null   object \n",
      " 28  calculated_host_listings_count  5367 non-null   int64  \n",
      " 29  reviews_per_month               5367 non-null   float64\n",
      " 30  bathroom_count                  5363 non-null   float64\n",
      " 31  starbucks_distances             5367 non-null   object \n",
      " 32  starbucks_review_mentions       5367 non-null   int64  \n",
      "dtypes: float64(14), int64(7), object(12)\n",
      "memory usage: 1.4+ MB\n"
     ]
    },
    {
     "data": {
      "text/plain": [
       "None"
      ]
     },
     "metadata": {},
     "output_type": "display_data"
    }
   ],
   "source": [
    "#Import two data-sets\n",
    "starbucks_df = pd.read_csv('./Clean_Data/Starbucks_Data.csv')\n",
    "airbnb_df = pd.read_csv('./Clean_Data/AirBNB_Data.csv')\n",
    "#Convert List columns stored as strings to lists\n",
    "starbucks_df['airbnb_distances'] = starbucks_df['airbnb_distances'].apply(ast.literal_eval)\n",
    "airbnb_df['starbucks_distances'] = airbnb_df['starbucks_distances'].apply(ast.literal_eval)\n",
    "#Preview to verify\n",
    "display(starbucks_df.head(1))\n",
    "display(starbucks_df.info())\n",
    "\n",
    "display(airbnb_df.head(1))\n",
    "display(airbnb_df.info())"
   ]
  },
  {
   "cell_type": "markdown",
   "metadata": {},
   "source": [
    "# Data Analytics"
   ]
  },
  {
   "cell_type": "code",
   "execution_count": 52,
   "metadata": {},
   "outputs": [],
   "source": [
    "#Manually assigned distances of interest\n",
    "bins = [.1, .25, .5, 1, 2, 5]\n",
    "#Define a function that loops through each 'bin' (not technically correct)\n",
    "#and counts starbucks within that range, then populate a column with that count\n",
    "#for future plots\n",
    "def airbnb_to_starbucks():\n",
    "    for bin in bins:\n",
    "        def nested_bin(row):\n",
    "            dist_to_sb_list = row['starbucks_distances']\n",
    "            sb_within_range = [x for x in dist_to_sb_list if x < bin]\n",
    "            return len(sb_within_range)\n",
    "        column_name = f\"SB_within_{bin}_miles\"\n",
    "        airbnb_df[column_name] = airbnb_df.apply(nested_bin, axis=1)\n",
    "# Run the function\n",
    "airbnb_to_starbucks()\n",
    "# Do it again for starbucks\n",
    "def starbucks_to_airbnb():\n",
    "    for bin in bins:\n",
    "        def nested_bin(row):\n",
    "            dist_to_bnb_list = row['airbnb_distances']\n",
    "            bnb_within_range = [x for x in dist_to_bnb_list if x < bin]\n",
    "            return len(bnb_within_range)\n",
    "        column_name = f\"Airbnb_within_{bin}_miles\"\n",
    "        starbucks_df[column_name] = starbucks_df.apply(nested_bin, axis=1)\n",
    "starbucks_to_airbnb()"
   ]
  },
  {
   "cell_type": "code",
   "execution_count": 93,
   "metadata": {},
   "outputs": [],
   "source": [
    "#calculate the average distance to the nearest 5 starbucks or bnbs\n",
    "def mean_dist_nearest_5_sb(row):\n",
    "    dist_list = row['starbucks_distances']\n",
    "    dist_list.sort()\n",
    "    return round(mean(dist_list[:5]),2)\n",
    "\n",
    "def mean_dist_nearest_5_bnb(row):\n",
    "    dist_list = row['airbnb_distances']\n",
    "    dist_list.sort()\n",
    "    return round(mean(dist_list[:5]),2)\n",
    "\n",
    "airbnb_df['nearest_5_avg'] = airbnb_df.apply(mean_dist_nearest_5_sb, axis=1)\n",
    "starbucks_df['nearest_5_avg'] = starbucks_df.apply(mean_dist_nearest_5_bnb, axis=1)"
   ]
  },
  {
   "cell_type": "code",
   "execution_count": null,
   "metadata": {},
   "outputs": [],
   "source": [
    "#Aggregate reviews by the number of SB within X miles\n",
    "airbnb_df_reviewed_only = airbnb_df.loc[airbnb_df['review_scores_rating'] != -1]\n",
    "aggregate_bnb_df = airbnb_df_reviewed_only.groupby(by=['SB_within_0.25_miles'])\n",
    "agg_bnb_df_mean = aggregate_bnb_df[['price', 'review_scores_rating','review_scores_location']].mean()\n",
    "display(aggregate_bnb_df['review_scores_rating'].count())\n",
    "agg_bnb_df_mean[['review_scores_rating','review_scores_location']].plot(figsize=(12,8), ylim=(4.6,5))"
   ]
  },
  {
   "cell_type": "code",
   "execution_count": null,
   "metadata": {},
   "outputs": [],
   "source": [
    "airbnb_df.loc[(airbnb_df['review_scores_rating'] != -1) & (airbnb_df['number_of_reviews'] > 10)].plot(x='nearest_5_avg', y='review_scores_rating', kind='scatter', ylim=(4.1, 5.1), figsize=(12,8), s=1)"
   ]
  },
  {
   "cell_type": "code",
   "execution_count": 113,
   "metadata": {},
   "outputs": [
    {
     "name": "stderr",
     "output_type": "stream",
     "text": [
      "C:\\Users\\matt.dipinto\\AppData\\Local\\Temp\\ipykernel_14296\\50015109.py:5: FutureWarning: The default of observed=False is deprecated and will be changed to True in a future version of pandas. Pass observed=False to retain current behavior or observed=True to adopt the future default and silence this warning.\n",
      "  grouped_near5_airbnb = airbnb_df.loc[airbnb_df['review_scores_rating'] != -1].groupby('nearest_5_distance_bins')\n"
     ]
    },
    {
     "data": {
      "text/plain": [
       "<Axes: xlabel='nearest_5_distance_bins'>"
      ]
     },
     "execution_count": 113,
     "metadata": {},
     "output_type": "execute_result"
    },
    {
     "data": {
      "image/png": "[encoded data removed]",
      "text/plain": [
       "<Figure size 640x480 with 1 Axes>"
      ]
     },
     "metadata": {},
     "output_type": "display_data"
    }
   ],
   "source": [
    "#actual binning of the data by nearest_5_avg\n",
    "nearest_5_bins = [0, 0.25, 0.5, 1, 2, 5]\n",
    "labels = [1,2,3,4,5]\n",
    "airbnb_df['nearest_5_distance_bins']=pd.cut(airbnb_df['nearest_5_avg'], bins=nearest_5_bins, labels=labels)\n",
    "grouped_near5_airbnb = airbnb_df.loc[airbnb_df['review_scores_rating'] != -1].groupby('nearest_5_distance_bins')\n",
    "grouped_near5_airbnb[['review_scores_rating']].mean().plot()"
   ]
  },
  {
   "cell_type": "markdown",
   "metadata": {},
   "source": [
    "# Testing that supported decisions while writing"
   ]
  },
  {
   "cell_type": "code",
   "execution_count": null,
   "metadata": {},
   "outputs": [
    {
     "name": "stdout",
     "output_type": "stream",
     "text": [
      "numpy: 1.0718685000902042\n",
      "list comprehension: 0.8408128001028672\n"
     ]
    }
   ],
   "source": [
    "#speed testing list comprehension vs. numpy eval:\n",
    "def numpy_speed():\n",
    "    data_list = starbucks_df['airbnb_distances'][0]\n",
    "    numpy_array = np.array(data_list)\n",
    "    nearby_distances = numpy_array[numpy_array < 1]\n",
    "    nearby_distances = np.sort(nearby_distances)\n",
    "    nearby_count = len(nearby_distances)\n",
    "    return(nearby_count,nearby_distances)\n",
    "\n",
    "time_taken_numpy = timeit.timeit(numpy_speed, number=5000)\n",
    "\n",
    "def list_speed():\n",
    "    data_list = starbucks_df['airbnb_distances'][0]\n",
    "    keep_list = [x for x in data_list if x < 1]\n",
    "    keep_list.sort()\n",
    "    nearby_count = len(keep_list)\n",
    "    return(nearby_count,keep_list)\n",
    "\n",
    "time_taken_list = timeit.timeit(list_speed, number=1000)\n",
    "\n",
    "print(f\"numpy: {time_taken_numpy}\")\n",
    "print(f\"list comprehension: {time_taken_list}\")\n",
    "\n",
    "#list comprehension was consistently ~5-10% faster"
   ]
  },
  {
   "cell_type": "code",
   "execution_count": null,
   "metadata": {},
   "outputs": [],
   "source": []
  }
 ],
 "metadata": {
  "kernelspec": {
   "display_name": "base",
   "language": "python",
   "name": "python3"
  },
  "language_info": {
   "codemirror_mode": {
    "name": "ipython",
    "version": 3
   },
   "file_extension": ".py",
   "mimetype": "text/x-python",
   "name": "python",
   "nbconvert_exporter": "python",
   "pygments_lexer": "ipython3",
   "version": "3.11.4"
  }
 },
 "nbformat": 4,
 "nbformat_minor": 2
}
